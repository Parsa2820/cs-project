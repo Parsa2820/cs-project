{
  "cells": [
    {
      "cell_type": "markdown",
      "metadata": {
        "colab_type": "text",
        "id": "view-in-github"
      },
      "source": [
        "<a href=\"https://colab.research.google.com/github/Parsa2820/cs-project/blob/master/cs-project.ipynb\" target=\"_parent\"><img src=\"https://colab.research.google.com/assets/colab-badge.svg\" alt=\"Open In Colab\"/></a>"
      ]
    },
    {
      "cell_type": "code",
      "execution_count": 198,
      "metadata": {},
      "outputs": [],
      "source": [
        "######################################\n",
        "############### INPUTS ###############\n",
        "######################################\n",
        "\n",
        "# Task creation rate poisson distribution rate\n",
        "X = 100\n",
        "# Task execution time exponential distribution mean\n",
        "Y = 10\n",
        "# Maximum waiting time exponential distribution mean\n",
        "Z = 100\n",
        "# Simulation time\n",
        "T = 1000\n",
        "# Number of tasks\n",
        "N = 10\n"
      ]
    },
    {
      "cell_type": "code",
      "execution_count": 199,
      "metadata": {},
      "outputs": [],
      "source": [
        "######################################\n",
        "############### CONFIG ###############\n",
        "######################################\n",
        "\n",
        "# Task priority distribution\n",
        "P = {\n",
        "    \"3.low\": 0.7,\n",
        "    \"2.normal\": 0.2,\n",
        "    \"1.high\": 0.1\n",
        "}\n",
        "# Limit of tasks in the second layer\n",
        "K = 10\n",
        "# First round robin time\n",
        "T1 = 1\n",
        "# Second round robin time\n",
        "T2 = 1\n",
        "# Second layer queues selcetion distribution\n",
        "QUEUES_DISTRIBUTION = {\n",
        "    \"rr1\": 0.8,\n",
        "    \"rr2\": 0.1,\n",
        "    \"fcfs\": 0.1\n",
        "}\n"
      ]
    },
    {
      "cell_type": "code",
      "execution_count": 200,
      "metadata": {},
      "outputs": [],
      "source": [
        "import numpy as np\n"
      ]
    },
    {
      "cell_type": "code",
      "execution_count": 201,
      "metadata": {},
      "outputs": [],
      "source": [
        "class Task:\n",
        "    def __init__(self):\n",
        "        self.service_time = 0\n",
        "        self.priority = 0\n",
        "        self.arrival_time = 0\n",
        "        self.max_waiting_time = 0\n",
        "\n",
        "    def __repr__(self):\n",
        "        return f\"Task({self.service_time}, {self.priority}, {self.arrival_time})\"\n",
        "\n",
        "\n",
        "class CpuScheduler:\n",
        "    def __init__(self, tasks):\n",
        "        self.priority_queue = tasks\n",
        "        self.round_robin_1_queue = []\n",
        "        self.round_robin_2_queue = []\n",
        "        self.fcfs_queue = []\n",
        "        self.t = 0\n",
        "        self.done_tasks = []\n",
        "        self.timeout_tasks = []\n",
        "        self.active_cpu_time = T\n",
        "\n",
        "    def run(self):\n",
        "        while self.t < T:\n",
        "            self.remove_timeout_tasks()\n",
        "            layer_2_tasks_count = len(self.round_robin_1_queue) + len(self.round_robin_2_queue) + len(self.fcfs_queue)\n",
        "            if layer_2_tasks_count < K:\n",
        "                self.job_loader(K - layer_2_tasks_count)\n",
        "            layer_2_tasks_count = len(self.round_robin_1_queue) + len(self.round_robin_2_queue) + len(self.fcfs_queue)\n",
        "            if layer_2_tasks_count == 0:\n",
        "                self.t += 1\n",
        "                self.active_cpu_time -= 1\n",
        "            self.dispatcher()\n",
        "\n",
        "    def job_loader(self, k):\n",
        "        self.round_robin_1_queue += self.pop_tasks_from_priority_queue(k)\n",
        "\n",
        "    def pop_tasks_from_priority_queue(self, k):\n",
        "        queue = [x for x in self.priority_queue if x.arrival_time >= self.t]\n",
        "        queue.sort(key=lambda x: x.priority)\n",
        "        if len(queue) > k:\n",
        "            self.priority_queue, result = queue[k:], queue[:k]\n",
        "        else:\n",
        "            self.priority_queue, result = [], queue\n",
        "        result.sort(key=lambda x: x.arrival_time)\n",
        "        return result\n",
        "\n",
        "    def dispatcher(self):\n",
        "        queue = np.random.choice(list(QUEUES_DISTRIBUTION.keys()), p=list(QUEUES_DISTRIBUTION.values()))\n",
        "        if queue == \"rr1\":\n",
        "            self.round_robin_1()\n",
        "        elif queue == \"rr2\":\n",
        "            self.round_robin_2()\n",
        "        elif queue == \"fcfs\":\n",
        "            self.fcfs()        \n",
        "\n",
        "    def round_robin_1(self):\n",
        "        if not self.round_robin_1_queue:\n",
        "            return\n",
        "        task = self.round_robin_1_queue.pop(0)\n",
        "        if task.service_time > T1:\n",
        "            task.service_time -= T1\n",
        "            self.round_robin_2_queue.append(task)\n",
        "        else:\n",
        "            self.done_tasks.append(task)\n",
        "        self.t += T1\n",
        "\n",
        "    def round_robin_2(self):\n",
        "        if not self.round_robin_2_queue:\n",
        "            return\n",
        "        task = self.round_robin_2_queue.pop(0)\n",
        "        if task.service_time > T2:\n",
        "            task.service_time -= T2\n",
        "            self.fcfs_queue.append(task)\n",
        "        else:\n",
        "            self.done_tasks.append(task)\n",
        "        self.t += T2\n",
        "\n",
        "    def fcfs(self):\n",
        "        if not self.fcfs_queue:\n",
        "            return\n",
        "        task = self.fcfs_queue.pop(0)\n",
        "        self.done_tasks.append(task)\n",
        "        self.t += task.service_time\n",
        "\n",
        "    def remove_timeout_tasks(self):\n",
        "        self.timeout_tasks += [x for x in self.priority_queue if x.arrival_time + x.max_waiting_time < self.t]\n",
        "        self.timeout_tasks += [x for x in self.round_robin_1_queue if x.arrival_time + x.max_waiting_time < self.t]\n",
        "        self.timeout_tasks += [x for x in self.round_robin_2_queue if x.arrival_time + x.max_waiting_time < self.t]\n",
        "        self.timeout_tasks += [x for x in self.fcfs_queue if x.arrival_time + x.max_waiting_time < self.t]\n",
        "        self.priority_queue = [x for x in self.priority_queue if x.arrival_time + x.max_waiting_time >= self.t]\n",
        "        self.round_robin_1_queue = [x for x in self.round_robin_1_queue if x.arrival_time + x.max_waiting_time >= self.t]\n",
        "        self.round_robin_2_queue = [x for x in self.round_robin_2_queue if x.arrival_time + x.max_waiting_time >= self.t]\n",
        "        self.fcfs_queue = [x for x in self.fcfs_queue if x.arrival_time + x.max_waiting_time >= self.t]\n"
      ]
    },
    {
      "cell_type": "code",
      "execution_count": 202,
      "metadata": {},
      "outputs": [],
      "source": [
        "def job_creator():\n",
        "    tasks = []\n",
        "    t = 0\n",
        "    for i in range(N):\n",
        "        task = Task()\n",
        "        task.service_time = np.random.exponential(Y)\n",
        "        task.priority = np.random.choice(list(P.keys()), p=list(P.values()))\n",
        "        task.arrival_time = t\n",
        "        t += np.random.poisson(X)\n",
        "        task.max_waiting_time = np.random.exponential(Z)\n",
        "        tasks.append(task)\n",
        "    return tasks\n"
      ]
    },
    {
      "cell_type": "code",
      "execution_count": 203,
      "metadata": {},
      "outputs": [],
      "source": [
        "tasks = job_creator()\n",
        "cpu_scheduler = CpuScheduler(tasks)\n",
        "cpu_scheduler.run()\n"
      ]
    },
    {
      "cell_type": "code",
      "execution_count": 204,
      "metadata": {},
      "outputs": [
        {
          "name": "stdout",
          "output_type": "stream",
          "text": [
            "CPU utilization: 9.2%\n"
          ]
        }
      ],
      "source": [
        "######################################\n",
        "############### OUTPUTS ##############\n",
        "######################################\n",
        "\n",
        "# Average queues length\n",
        "\n",
        "# Average waiting times in queues\n",
        "\n",
        "# CPU utilization\n",
        "print(f\"CPU utilization: {cpu_scheduler.active_cpu_time / T * 100}%\")\n",
        "\n",
        "# Percentage of timed out tasks"
      ]
    }
  ],
  "metadata": {
    "colab": {
      "authorship_tag": "ABX9TyNTQMygAwWNSUGbnMtdV9xt",
      "include_colab_link": true,
      "provenance": []
    },
    "kernelspec": {
      "display_name": "Python 3",
      "language": "python",
      "name": "python3"
    },
    "language_info": {
      "codemirror_mode": {
        "name": "ipython",
        "version": 3
      },
      "file_extension": ".py",
      "mimetype": "text/x-python",
      "name": "python",
      "nbconvert_exporter": "python",
      "pygments_lexer": "ipython3",
      "version": "3.10.9"
    },
    "vscode": {
      "interpreter": {
        "hash": "e7370f93d1d0cde622a1f8e1c04877d8463912d04d973331ad4851f04de6915a"
      }
    }
  },
  "nbformat": 4,
  "nbformat_minor": 0
}
